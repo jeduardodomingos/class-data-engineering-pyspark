{
 "cells": [
  {
   "cell_type": "markdown",
   "id": "a91e5c79-7dec-4b50-b0b1-fc5a1942d840",
   "metadata": {},
   "source": [
    "## Basic Imports"
   ]
  },
  {
   "cell_type": "code",
   "execution_count": 3,
   "id": "75213663-98c3-49cc-907c-da87431f1dd7",
   "metadata": {},
   "outputs": [],
   "source": [
    "from pyspark.sql import SparkSession"
   ]
  },
  {
   "cell_type": "markdown",
   "id": "d01435c4-ff7d-4847-bd0d-488a058b70b0",
   "metadata": {},
   "source": [
    "## Build our Spark Session\n",
    "\n",
    "A Spark Session pode ser definida como nosso mediador entre nossa spark application e as APIs e Libraries do Apache Spark, a mesma é responsável por unificar os diferentes contextos dentro do Spark em uma única abstração, facilitando em muito nosso trabalho"
   ]
  },
  {
   "cell_type": "code",
   "execution_count": 15,
   "id": "c0675146-4bc3-455b-89d7-76d70ba3a97d",
   "metadata": {},
   "outputs": [],
   "source": [
    "spark = (SparkSession.builder\n",
    "                     .appName(\"My First PySpark Application\")\n",
    "                     .master(\"local[2]\") \n",
    "                     .getOrCreate())"
   ]
  },
  {
   "cell_type": "code",
   "execution_count": null,
   "id": "76d9e5bf-f335-4812-8727-0181280df406",
   "metadata": {},
   "outputs": [],
   "source": []
  },
  {
   "cell_type": "code",
   "execution_count": 13,
   "id": "97384f3e-dea4-48b6-b577-8f00b287d1b1",
   "metadata": {},
   "outputs": [],
   "source": [
    "circuits_df = (spark.read\n",
    "                    .option(\"header\", \"True\")\n",
    "                    .option(\"delimiter\", \",\")\n",
    "                    .csv(\"data/circuits.csv\"))"
   ]
  },
  {
   "cell_type": "code",
   "execution_count": 17,
   "id": "923acd44-e378-4ce2-9177-e38e460a394a",
   "metadata": {},
   "outputs": [
    {
     "name": "stdout",
     "output_type": "stream",
     "text": [
      "root\n",
      " |-- circuitId: string (nullable = true)\n",
      " |-- circuitRef: string (nullable = true)\n",
      " |-- name: string (nullable = true)\n",
      " |-- location: string (nullable = true)\n",
      " |-- country: string (nullable = true)\n",
      " |-- lat: string (nullable = true)\n",
      " |-- lng: string (nullable = true)\n",
      " |-- alt: string (nullable = true)\n",
      " |-- url: string (nullable = true)\n",
      "\n"
     ]
    }
   ],
   "source": [
    "circuits_df.printSchema()"
   ]
  },
  {
   "cell_type": "code",
   "execution_count": 23,
   "id": "bcdeaefd-c8c5-46d8-9d70-0472bbf7566d",
   "metadata": {},
   "outputs": [
    {
     "name": "stdout",
     "output_type": "stream",
     "text": [
      "+-----------+--------------+---------+\n",
      "|ID_CIRCUITO| NOME_CIRCUITO|     PAIS|\n",
      "+-----------+--------------+---------+\n",
      "|          1|   albert_park|Australia|\n",
      "|          2|        sepang| Malaysia|\n",
      "|          3|       bahrain|  Bahrain|\n",
      "|          4|     catalunya|    Spain|\n",
      "|          5|      istanbul|   Turkey|\n",
      "|          6|        monaco|   Monaco|\n",
      "|          7|    villeneuve|   Canada|\n",
      "|          8|   magny_cours|   France|\n",
      "|          9|   silverstone|       UK|\n",
      "|         10|hockenheimring|  Germany|\n",
      "|         11|   hungaroring|  Hungary|\n",
      "|         12|      valencia|    Spain|\n",
      "|         13|           spa|  Belgium|\n",
      "|         14|         monza|    Italy|\n",
      "|         15|    marina_bay|Singapore|\n",
      "|         16|          fuji|    Japan|\n",
      "|         17|      shanghai|    China|\n",
      "|         18|    interlagos|   Brazil|\n",
      "|         19|  indianapolis|      USA|\n",
      "|         20|   nurburgring|  Germany|\n",
      "+-----------+--------------+---------+\n",
      "only showing top 20 rows\n",
      "\n"
     ]
    }
   ],
   "source": [
    "from pyspark.sql.functions import col\n",
    "\n",
    "select_with_select_method_df = circuits_df.select(\n",
    "                                                col(\"circuitId\").alias(\"ID_CIRCUITO\"), \n",
    "                                                col(\"circuitRef\").alias(\"NOME_CIRCUITO\"), \n",
    "                                                col(\"country\").alias(\"PAIS\")\n",
    "                                            )\n",
    "select_with_select_method_df.show()"
   ]
  },
  {
   "cell_type": "code",
   "execution_count": 24,
   "id": "e9c03102-edc7-4c0e-a62d-01ccbb2eef4f",
   "metadata": {},
   "outputs": [
    {
     "name": "stdout",
     "output_type": "stream",
     "text": [
      "+-----------+--------------+---------+\n",
      "|ID_CIRCUITO| NOME_CIRCUITO|     PAIS|\n",
      "+-----------+--------------+---------+\n",
      "|          1|   albert_park|Australia|\n",
      "|          2|        sepang| Malaysia|\n",
      "|          3|       bahrain|  Bahrain|\n",
      "|          4|     catalunya|    Spain|\n",
      "|          5|      istanbul|   Turkey|\n",
      "|          6|        monaco|   Monaco|\n",
      "|          7|    villeneuve|   Canada|\n",
      "|          8|   magny_cours|   France|\n",
      "|          9|   silverstone|       UK|\n",
      "|         10|hockenheimring|  Germany|\n",
      "|         11|   hungaroring|  Hungary|\n",
      "|         12|      valencia|    Spain|\n",
      "|         13|           spa|  Belgium|\n",
      "|         14|         monza|    Italy|\n",
      "|         15|    marina_bay|Singapore|\n",
      "|         16|          fuji|    Japan|\n",
      "|         17|      shanghai|    China|\n",
      "|         18|    interlagos|   Brazil|\n",
      "|         19|  indianapolis|      USA|\n",
      "|         20|   nurburgring|  Germany|\n",
      "+-----------+--------------+---------+\n",
      "only showing top 20 rows\n",
      "\n"
     ]
    }
   ],
   "source": [
    "select_with_select_expr_method_df = circuits_df.selectExpr(\n",
    "                                                \"circuitId AS ID_CIRCUITO\", \n",
    "                                                \"circuitRef AS NOME_CIRCUITO\", \n",
    "                                                \"country AS PAIS\"\n",
    "                                            )\n",
    "select_with_select_expr_method_df.show()"
   ]
  },
  {
   "cell_type": "code",
   "execution_count": 25,
   "id": "7b67ad05-0641-46ad-9e0b-270ae5538007",
   "metadata": {},
   "outputs": [
    {
     "name": "stdout",
     "output_type": "stream",
     "text": [
      "+-----------+--------------+---------+\n",
      "|ID_CIRCUITO| NOME_CIRCUITO|     PAIS|\n",
      "+-----------+--------------+---------+\n",
      "|          1|   albert_park|Australia|\n",
      "|          2|        sepang| Malaysia|\n",
      "|          3|       bahrain|  Bahrain|\n",
      "|          4|     catalunya|    Spain|\n",
      "|          5|      istanbul|   Turkey|\n",
      "|          6|        monaco|   Monaco|\n",
      "|          7|    villeneuve|   Canada|\n",
      "|          8|   magny_cours|   France|\n",
      "|          9|   silverstone|       UK|\n",
      "|         10|hockenheimring|  Germany|\n",
      "|         11|   hungaroring|  Hungary|\n",
      "|         12|      valencia|    Spain|\n",
      "|         13|           spa|  Belgium|\n",
      "|         14|         monza|    Italy|\n",
      "|         15|    marina_bay|Singapore|\n",
      "|         16|          fuji|    Japan|\n",
      "|         17|      shanghai|    China|\n",
      "|         18|    interlagos|   Brazil|\n",
      "|         19|  indianapolis|      USA|\n",
      "|         20|   nurburgring|  Germany|\n",
      "+-----------+--------------+---------+\n",
      "only showing top 20 rows\n",
      "\n"
     ]
    }
   ],
   "source": [
    "circuits_df.createOrReplaceTempView(\"VW_VIEW_SELECT_MODE\")\n",
    "\n",
    "view_select_mode_df = spark.sql(\"\"\"\n",
    "        SELECT V.circuitId AS ID_CIRCUITO, \n",
    "               V.circuitRef AS NOME_CIRCUITO, \n",
    "               V.country AS PAIS \n",
    "          FROM VW_VIEW_SELECT_MODE V\n",
    "\"\"\")\n",
    "\n",
    "view_select_mode_df.show()"
   ]
  },
  {
   "cell_type": "markdown",
   "id": "5a95d896-22da-4f28-a4ed-8ce1de6bc9c5",
   "metadata": {},
   "source": [
    "## Filtragem de Dados com a Cláusula WHERE"
   ]
  },
  {
   "cell_type": "markdown",
   "id": "569370af-c037-46c7-91e0-1712b0d482b1",
   "metadata": {},
   "source": [
    "## Neste exemplo filtraremos apenas os circuitos presentes no Brasil"
   ]
  },
  {
   "cell_type": "code",
   "execution_count": 26,
   "id": "c0b1b1f5-6df6-45ba-b674-86e18a6623cc",
   "metadata": {},
   "outputs": [
    {
     "name": "stdout",
     "output_type": "stream",
     "text": [
      "+-----------+-------------+------+\n",
      "|ID_CIRCUITO|NOME_CIRCUITO|  PAIS|\n",
      "+-----------+-------------+------+\n",
      "|         18|   interlagos|Brazil|\n",
      "|         36|  jacarepagua|Brazil|\n",
      "+-----------+-------------+------+\n",
      "\n"
     ]
    }
   ],
   "source": [
    "from pyspark.sql.functions import col, lit\n",
    "\n",
    "select_with_select_method_df = circuits_df.select(\n",
    "                                                col(\"circuitId\").alias(\"ID_CIRCUITO\"), \n",
    "                                                col(\"circuitRef\").alias(\"NOME_CIRCUITO\"), \n",
    "                                                col(\"country\").alias(\"PAIS\")\n",
    "                                            ).where(col(\"PAIS\") == lit(\"Brazil\"))\n",
    "select_with_select_method_df.show()"
   ]
  },
  {
   "cell_type": "markdown",
   "id": "690debc8-7b3a-4bb0-aec8-6136dc15f61b",
   "metadata": {},
   "source": [
    "## Aqui temos a mesma operação utilizando Temporary Views"
   ]
  },
  {
   "cell_type": "code",
   "execution_count": 27,
   "id": "37a1dc3e-bdda-4f2c-924f-8939624228c2",
   "metadata": {},
   "outputs": [
    {
     "name": "stdout",
     "output_type": "stream",
     "text": [
      "+-----------+-------------+------+\n",
      "|ID_CIRCUITO|NOME_CIRCUITO|  PAIS|\n",
      "+-----------+-------------+------+\n",
      "|         18|   interlagos|Brazil|\n",
      "|         36|  jacarepagua|Brazil|\n",
      "+-----------+-------------+------+\n",
      "\n"
     ]
    }
   ],
   "source": [
    "circuits_df.createOrReplaceTempView(\"VW_VIEW_SELECT_MODE_WHERE_CLAUSE\")\n",
    "\n",
    "view_select_mode_df = spark.sql(\"\"\"\n",
    "        SELECT V.circuitId AS ID_CIRCUITO, \n",
    "               V.circuitRef AS NOME_CIRCUITO, \n",
    "               V.country AS PAIS \n",
    "          FROM VW_VIEW_SELECT_MODE_WHERE_CLAUSE V\n",
    "         WHERE V.country = \"Brazil\"\n",
    "\"\"\")\n",
    "\n",
    "view_select_mode_df.show()"
   ]
  },
  {
   "cell_type": "markdown",
   "id": "ea3be6bf-2277-4cff-b081-0c5e7ea59a30",
   "metadata": {},
   "source": [
    "## Colocando em Prática\n",
    "\n",
    "Para nosso exercício prático, utilizaremos um arquivo chamado drivers.csv, este arquivo contém dados relacionados aos pilotos do grid de Fórmula 1, desde do início do esporte. Com base nisso nosso exercíco consistirá nos seguintes passos:\n",
    "\n",
    "- Criar uma Spark Session para nossa aplicação chamada \"Lendo Pilotos App\"\n",
    "- Ler o arquivo drivers.csv e carregá-lo em um DataFrame\n",
    "- Selecionar apenas as colunas code, forename, surname e natinonality, renomeando as colunas da seguinte maneira code -> codigo, forename -> nome, surname -> sobrenome, nationality -> nacionalidade\n",
    "- Filtrar apenas os pilotos cuja a nacionalidade seja Brazilian"
   ]
  },
  {
   "cell_type": "code",
   "execution_count": null,
   "id": "3e363df3-e50f-4376-89f7-1cb2e4889546",
   "metadata": {},
   "outputs": [],
   "source": []
  }
 ],
 "metadata": {
  "kernelspec": {
   "display_name": "Python 3 (ipykernel)",
   "language": "python",
   "name": "python3"
  },
  "language_info": {
   "codemirror_mode": {
    "name": "ipython",
    "version": 3
   },
   "file_extension": ".py",
   "mimetype": "text/x-python",
   "name": "python",
   "nbconvert_exporter": "python",
   "pygments_lexer": "ipython3",
   "version": "3.10.8"
  }
 },
 "nbformat": 4,
 "nbformat_minor": 5
}
